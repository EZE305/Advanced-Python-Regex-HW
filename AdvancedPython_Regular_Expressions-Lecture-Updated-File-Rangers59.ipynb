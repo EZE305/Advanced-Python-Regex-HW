{
 "cells": [
  {
   "cell_type": "markdown",
   "metadata": {},
   "source": [
    "# Regular Expressions"
   ]
  },
  {
   "cell_type": "markdown",
   "metadata": {},
   "source": [
    "# Tasks today:\n",
    "1) <b>Importing</b> <br>\n",
    "2) <b>Using Regular Expressions</b> <br>\n",
    " &nbsp;&nbsp;&nbsp;&nbsp; a) re.compile() <br>\n",
    " &nbsp;&nbsp;&nbsp;&nbsp; b) re.match() <br>\n",
    " &nbsp;&nbsp;&nbsp;&nbsp; c) re.findall() <br>\n",
    " &nbsp;&nbsp;&nbsp;&nbsp; d) re.search() <br>\n",
    "3) <b>Sets</b> <br>\n",
    " &nbsp;&nbsp;&nbsp;&nbsp; a) Integer Ranges <br>\n",
    " &nbsp;&nbsp;&nbsp;&nbsp; b) Character Ranges <br>\n",
    "4) <b>Counting Occurences</b> <br>\n",
    " &nbsp;&nbsp;&nbsp;&nbsp; a) {x} <br>\n",
    " &nbsp;&nbsp;&nbsp;&nbsp; b) {, x} <br>\n",
    " &nbsp;&nbsp;&nbsp;&nbsp; c) {?} <br>\n",
    " &nbsp;&nbsp;&nbsp;&nbsp; d) {*} <br>\n",
    " &nbsp;&nbsp;&nbsp;&nbsp; e) {+} <br>\n",
    "5) <b>In-Class Exercise #1</b> <br>\n",
    "6) <b>Escaping Characters</b> <br>\n",
    "7) <b>Grouping</b> <br>\n",
    "8) <b>In-Class Exercise #2</b> <br>\n",
    "9) <b>Opening a File</b> <br>\n",
    " &nbsp;&nbsp;&nbsp;&nbsp; a) open() <br>\n",
    " &nbsp;&nbsp;&nbsp;&nbsp; b) with open() <br>\n",
    " &nbsp;&nbsp;&nbsp;&nbsp; c) re.match() <br>\n",
    " &nbsp;&nbsp;&nbsp;&nbsp; d) re.search() <br>\n",
    " &nbsp;&nbsp;&nbsp;&nbsp; e) Store the String in a Variable <br>\n",
    "10) <b>Regex Project</b> <br>"
   ]
  },
  {
   "cell_type": "markdown",
   "metadata": {},
   "source": [
    "### Importing <br>\n",
    "<p>Regular Expressions are universal throughout most programming languages... They are generally imported through the module 're'.</p>"
   ]
  },
  {
   "cell_type": "code",
   "execution_count": 1,
   "metadata": {},
   "outputs": [
    {
     "name": "stdout",
     "output_type": "stream",
     "text": [
      "Help on function compile in module re:\n",
      "\n",
      "compile(pattern, flags=0)\n",
      "    Compile a regular expression pattern, returning a Pattern object.\n",
      "\n",
      "None\n",
      "re.compile('abcd')\n",
      "<re.Match object; span=(0, 4), match='abcd'>\n",
      "['abcd', 'abcd']\n"
     ]
    }
   ],
   "source": [
    "# import re\n",
    "# regex isn't scary, it allows us to take strings and parse through them and sort through different date types.\n",
    "# ex. \"How many times does the word Chicken appear in this cookbook\"\n",
    "# good for filtering user input \n",
    "# ex. users give you a phone number and you can make sure it's valid using regex \n",
    "import re\n",
    "\n",
    "pattern = re.compile(\"abcd\")\n",
    "print(help(re.compile))\n",
    "print(pattern)\n",
    "match = pattern.match(\"abcd123\")\n",
    "print(match)\n",
    "finders = pattern.findall('123abcd abcd123 acdb123 abc abc acab')\n",
    "print(finders)"
   ]
  },
  {
   "cell_type": "markdown",
   "metadata": {},
   "source": [
    "### Using Regular Expressions <br>\n",
    "<p>Regular expressions give us the ability to search for patterns within text, strings, files, etc. They serve several uses, such as; security measures, searching, filtering, pattern recognition, and more...</p>"
   ]
  },
  {
   "cell_type": "markdown",
   "metadata": {},
   "source": [
    "##### re.compile()"
   ]
  },
  {
   "cell_type": "code",
   "execution_count": null,
   "metadata": {},
   "outputs": [],
   "source": [
    "# using compile, pre determines the string to be used in regular expression methods\n",
    "\n",
    "pattern = re.compile(\"abcd\")\n",
    "print(pattern)"
   ]
  },
  {
   "cell_type": "markdown",
   "metadata": {},
   "source": [
    "##### re.match()"
   ]
  },
  {
   "cell_type": "code",
   "execution_count": null,
   "metadata": {},
   "outputs": [],
   "source": [
    "match = pattern.match(\"abcd123\")\n",
    "print(match)"
   ]
  },
  {
   "cell_type": "markdown",
   "metadata": {},
   "source": [
    "#### re.findall()"
   ]
  },
  {
   "cell_type": "code",
   "execution_count": null,
   "metadata": {},
   "outputs": [],
   "source": [
    "finders = pattern.findall('123abcd abcd123 acdb123 abc abc acab')\n",
    "print(finders)\n"
   ]
  },
  {
   "cell_type": "markdown",
   "metadata": {},
   "source": [
    "##### re.search()"
   ]
  },
  {
   "cell_type": "code",
   "execution_count": null,
   "metadata": {},
   "outputs": [],
   "source": [
    "rand_str = \"123 242 232 123 3231 321 abcd abc\"\n",
    "search = pattern.search(rand_str)\n",
    "print(search)"
   ]
  },
  {
   "cell_type": "markdown",
   "metadata": {},
   "source": [
    "### Sets <br>\n",
    "<p>The following cells will allow you to use regular expressions to search for certain values within a range such as numbers 1 through 4.</p>"
   ]
  },
  {
   "cell_type": "markdown",
   "metadata": {},
   "source": [
    "##### [a-z] or [A-Z] - any lowercase/uppercase letters from a to z<br/>[^2] - anything that's not 2"
   ]
  },
  {
   "cell_type": "markdown",
   "metadata": {},
   "source": [
    "##### Integer Ranges"
   ]
  },
  {
   "cell_type": "code",
   "execution_count": null,
   "metadata": {},
   "outputs": [],
   "source": [
    "pattern_int = re.compile(\"[0-7][7-9][1-5]\")\n",
    "\n",
    "rand_num = pattern_int.search ('593859')\n",
    "print(rand_num)\n",
    "span = rand_num.span()\n",
    "print(rand_num[span[0]])"
   ]
  },
  {
   "cell_type": "markdown",
   "metadata": {},
   "source": [
    "##### Character Ranges"
   ]
  },
  {
   "cell_type": "code",
   "execution_count": null,
   "metadata": {},
   "outputs": [],
   "source": [
    "char_pattern = re.compile(\"([A-Z][a-z])\")\n",
    "\n",
    "found = char_pattern.findall(\"Hello There Mr. Anderson\")\n",
    "print(found)\n",
    "print(help(re.findall))"
   ]
  },
  {
   "cell_type": "markdown",
   "metadata": {},
   "source": [
    "### Counting Occurences"
   ]
  },
  {
   "cell_type": "markdown",
   "metadata": {},
   "source": [
    "##### {x} - something that occurs {num_of_times}"
   ]
  },
  {
   "cell_type": "code",
   "execution_count": null,
   "metadata": {},
   "outputs": [],
   "source": [
    "# the num in curly brackets {2} is the repetition of whatever you put in the index before it [0-3]. eg. the number of times you \n",
    "# want it to repeate\n",
    "\n",
    "char_pattern_count = re.compile(\"[A-Z][a-z][0-3]{2}\")\n",
    "\n",
    "found_count = char_pattern_count.findall(\"He11o Mr. An33derson\")\n",
    "print(found_count)\n",
    "\n",
    "\n"
   ]
  },
  {
   "cell_type": "markdown",
   "metadata": {},
   "source": [
    "##### {x, x} - something that occurs between x and x times"
   ]
  },
  {
   "cell_type": "code",
   "execution_count": null,
   "metadata": {},
   "outputs": [],
   "source": [
    "# the expression in curly braces will show us any instance pf repeating m's from 1,5 m's ex. mm mmmmm mmm \n",
    "\n",
    "random_pattern = re.compile(\"m{1,5}\")\n",
    "\n",
    "random_statement = random_pattern.findall(\"mm and mmmm nmmm nmmmmnm \")\n",
    "print(random_statement)"
   ]
  },
  {
   "cell_type": "markdown",
   "metadata": {},
   "source": [
    "##### ? - something that occurs 0 or 1 time"
   ]
  },
  {
   "cell_type": "code",
   "execution_count": null,
   "metadata": {},
   "outputs": [],
   "source": [
    "# ?will look for both Mrs and Mrss\n",
    "pattern = re.compile(\"Mrss?\")\n",
    "phrase = pattern.findall(\"Mrss, Mrs . Mrsss\")\n",
    "print(phrase)"
   ]
  },
  {
   "cell_type": "markdown",
   "metadata": {},
   "source": [
    "##### * - something that occurs at least 0 times"
   ]
  },
  {
   "cell_type": "code",
   "execution_count": null,
   "metadata": {},
   "outputs": [],
   "source": [
    "pattern_m = re.compile(\"M*s\")\n",
    "# this example shows all instances of an M occurring or not occurring before a s \n",
    "phrase_1 = pattern_m.findall(\"Ms. M. Msss. Mss bacon\")\n",
    "print(phrase_1)"
   ]
  },
  {
   "cell_type": "markdown",
   "metadata": {},
   "source": [
    "##### + - something that occurs at least once"
   ]
  },
  {
   "cell_type": "code",
   "execution_count": null,
   "metadata": {},
   "outputs": [],
   "source": [
    "another_m = re.compile(\"M+s\")\n",
    "phrase_2 = another_m.findall(\"look MMss I got ur Msss  mhmmMMSS\")\n",
    "print(phrase_2)"
   ]
  },
  {
   "cell_type": "markdown",
   "metadata": {},
   "source": [
    "##### In-class exercise 1: \n",
    "\n",
    "Use a regular expression to find every number in the given string"
   ]
  },
  {
   "cell_type": "code",
   "execution_count": null,
   "metadata": {},
   "outputs": [],
   "source": [
    "\n",
    "ex_1 = re.compile(\"[0-9]+\")\n",
    "check_num = ex_1.findall(\"this is a single string and has 38902384902 numbers 1nsid3 it 1t's a li11le trippy n0?\")\n",
    "\n",
    "print(check_num)\n"
   ]
  },
  {
   "cell_type": "markdown",
   "metadata": {},
   "source": [
    "### Escaping Characters"
   ]
  },
  {
   "cell_type": "markdown",
   "metadata": {},
   "source": [
    "##### \\w - look for any Unicode character<br/>\\W - look for anything that isnt a Unicode character\n",
    "\n",
    "[History on Unicode](http://unicode.org/standard/WhatIsUnicode.html)\n",
    "\n",
    "[More on Unicode Characters](https://en.wikipedia.org/wiki/List_of_Unicode_characters)"
   ]
  },
  {
   "cell_type": "code",
   "execution_count": null,
   "metadata": {},
   "outputs": [],
   "source": [
    "pattern_1 = re.compile(\"[\\w]+\")\n",
    "pattern_2 = re.compile(\"[\\W]+\")\n",
    "\n",
    "found_1 = pattern_1.findall(\"this, is a sentence. With and exclamation mark at the end!\")\n",
    "found_2 = pattern_2.findall(\"this, is a sentence. With and exclamation mark at the end! ?? /@ #$ %^ &^\")\n",
    "print(found_1)\n",
    "print(found_2)"
   ]
  },
  {
   "cell_type": "markdown",
   "metadata": {},
   "source": [
    "##### \\d - look for any digit 0-9<br/>\\D - look for anything that isnt a digit"
   ]
  },
  {
   "cell_type": "code",
   "execution_count": null,
   "metadata": {},
   "outputs": [],
   "source": [
    "patt_nums = re.compile(\"\\d\")\n",
    "patt_lett = re.compile(\"\\D\")\n",
    "\n",
    "found_nums= patt_nums.findall(\"Loo4 a1 a11 d33z num83rs\")\n",
    "found_lett= patt_lett.findall(\"Loo4 a1 a11 d33z num83rs\")\n",
    "\n",
    "print(found_nums)\n",
    "print(found_lett)\n",
    "\n",
    "patt_nums = re.compile(\"\\d{1,2}[a-z]{2}\")\n",
    "# this will be looking for any two numbers together followed by any two letters all together\n",
    "find_date = patt_nums.findall(\"today the 5th day of the 7th month in the 22nd year of the 21st millenium. We dance!\")\n",
    "print(find_date)"
   ]
  },
  {
   "cell_type": "markdown",
   "metadata": {},
   "source": [
    "##### \\s - look for any white space<br/>\\S - look for anything that isnt whitespace"
   ]
  },
  {
   "cell_type": "code",
   "execution_count": null,
   "metadata": {},
   "outputs": [],
   "source": [
    "pattern_no_space = re.compile ('\\S[a-z]+')\n",
    "pattern_space = re.compile (\"\\s+\")\n",
    "\n",
    "found_space = pattern_space.findall(\"Are you afraid of the dark?\")\n",
    "print(found_space)\n",
    "found_dark = pattern_no_space.findall(\"Are you afraid of the dark?\")\n",
    "print(found_dark)"
   ]
  },
  {
   "cell_type": "markdown",
   "metadata": {},
   "source": [
    "##### \\b - look for boundaries or edges of a word<br/>\\B - look for anything that isnt a boundary"
   ]
  },
  {
   "cell_type": "code",
   "execution_count": null,
   "metadata": {},
   "outputs": [],
   "source": [
    "no_bound = re.compile(r\"\\bTheCodingTemple\\b\")\n",
    "bound_town = re.compile(r\"\\BTheCodingTemple\\b\")\n",
    "\n",
    "found_no_bound = no_bound.findall(\"TheCodingTemple\")\n",
    "found_some_bound = bound_town.findall(\"TheCodingTemple\")\n",
    "print(found_no_bound)\n",
    "print((found_some_bound))"
   ]
  },
  {
   "cell_type": "markdown",
   "metadata": {},
   "source": [
    "### Grouping"
   ]
  },
  {
   "cell_type": "code",
   "execution_count": null,
   "metadata": {},
   "outputs": [],
   "source": [
    "another_string = \"Max Adams, Mike Moore, Beyond Meat, Sugar Rae, Beez Neez, McDeez Adums, LeBron DeMon\"\n",
    "\n",
    "pattern_name = re.compile(\"([A-Z][a-zA-Za-z]+) ([A-Z][A-Za-z]+)\")\n",
    "\n",
    "found_names = pattern_name.findall(another_string)\n",
    "\n",
    "print(found_names)\n",
    "\n",
    "for name in another_string.split(\",\"):\n",
    "    match = pattern_name.search(name)\n",
    "    \n",
    "    if match:\n",
    "        print(match.groups(2))\n",
    "    else:\n",
    "        print(\"Not a name\")\n",
    "\n"
   ]
  },
  {
   "cell_type": "markdown",
   "metadata": {},
   "source": [
    "##### In-class Exercise 2:\n",
    "\n",
    "Write a function using regular expressions to find the domain name in the given email addresses (and return None for the invalid email addresses)<br><b>HINT: Use '|' for either or</b>"
   ]
  },
  {
   "cell_type": "code",
   "execution_count": null,
   "metadata": {},
   "outputs": [],
   "source": [
    "\n",
    "# my_emails = \"jordanw@codingtemple.orgcom , pocohontas1776@gmail.com , helloworld@aol..com , yourfavoriteband@g6.org , @codingtemple.com\"\n",
    "\n",
    "# domain = re.compile(\"[a-zA-Z0-9]+@[A-Za-z0-9]+\\.(com|org)$\")\n",
    "\n",
    "# real_email = domain.finditer(my_emails)\n",
    "\n",
    "# print(real_email)\n",
    "\n",
    "# for email in my_emails.split(\" , \"):\n",
    "#     true_email = domain.search(email)\n",
    "    \n",
    "#     if true_email:\n",
    "#         print(true_email.group())\n",
    "        \n",
    "#     else:\n",
    "#         print(\"None\")\n",
    "    \n",
    "import re\n",
    "    \n",
    "my_emails = \"jordanw@codingtemple.orgcom , pocohontas1776@gmail.com , helloworld@aol..com , yourfavoriteband@g6.org , @codingtemple.com\"\n",
    "\n",
    "domain = re.compile(\"[a-zA-Z0-9]+@[A-Za-z0-9]+\\.(com|org)$\")\n",
    "\n",
    "real_email = domain.finditer(my_emails)\n",
    "\n",
    "print(real_email)\n",
    "\n",
    "for email in my_emails.split(\" , \"):\n",
    "    true_email = domain.search(email)\n",
    "    \n",
    "    if true_email:\n",
    "        print(true_email.group())\n",
    "        \n",
    "    else:\n",
    "        print(\"None\")\n",
    "    \n",
    "\n",
    "\n",
    "\n",
    "# You can also use the $ at the end of your compile expression -- this stops the search\n",
    "\n",
    "#.com OR .org => com|org\n",
    "\n",
    "#Expected output:\n",
    "#None\n",
    "#pocohontas1776@gmail.com\n",
    "#None\n",
    "#yourfavoriteband@g6.org\n",
    "#None\n",
    "\n",
    "\n"
   ]
  },
  {
   "cell_type": "markdown",
   "metadata": {},
   "source": [
    "### Opening a File <br>\n",
    "<p>Python gives us a couple ways to import files, below are the two used most often.</p>"
   ]
  },
  {
   "cell_type": "markdown",
   "metadata": {},
   "source": [
    "##### open()"
   ]
  },
  {
   "cell_type": "code",
   "execution_count": null,
   "metadata": {},
   "outputs": [],
   "source": [
    "f = open('names.txt')\n",
    "data = f.read()\n",
    "\n",
    "print(data)"
   ]
  },
  {
   "cell_type": "markdown",
   "metadata": {},
   "source": [
    "##### with open()"
   ]
  },
  {
   "cell_type": "code",
   "execution_count": null,
   "metadata": {},
   "outputs": [],
   "source": [
    "with open(\"names.txt\")as f:\n",
    "    data = f.read()\n",
    "    print(data)"
   ]
  },
  {
   "cell_type": "markdown",
   "metadata": {},
   "source": [
    "##### re.match()"
   ]
  },
  {
   "cell_type": "code",
   "execution_count": null,
   "metadata": {},
   "outputs": [],
   "source": [
    "print(re.match(r\"Hawkins, Derek\", data))"
   ]
  },
  {
   "cell_type": "markdown",
   "metadata": {},
   "source": [
    "##### re.search()"
   ]
  },
  {
   "cell_type": "code",
   "execution_count": null,
   "metadata": {},
   "outputs": [],
   "source": [
    "print(re.search(r\"ripalp@codingtemple.com\", data))"
   ]
  },
  {
   "cell_type": "markdown",
   "metadata": {},
   "source": [
    "##### Store the String to a Variable"
   ]
  },
  {
   "cell_type": "code",
   "execution_count": null,
   "metadata": {},
   "outputs": [],
   "source": [
    "answer = input(\"What would you like to search for? \")\n",
    "\n",
    "found = re.findall(answer, data)\n",
    "\n",
    "if found:\n",
    "    print(f\"I found your data: {found}\")\n",
    "else:\n",
    "    print(\"Nothing Here\")"
   ]
  },
  {
   "cell_type": "markdown",
   "metadata": {},
   "source": [
    "### In-Class Exercise #3 <br>\n",
    "<p>Print each persons name and twitter handle, using groups, should look like:</p>\n",
    "<p>==============<br>\n",
    "   Full Name / Twitter<br>\n",
    "   ==============</p>\n",
    "Derek Hawkins / @derekhawkins\n",
    "\n",
    " Erik Sven-Osterberg / @sverik\n",
    "\n",
    " Ryan Butz / @ryanbutz\n",
    "\n",
    " Example Exampleson / @example\n",
    "\n",
    " Ripal Pael / @ripalp\n",
    "\n",
    " Darth Vader / @darthvader"
   ]
  },
  {
   "cell_type": "code",
   "execution_count": 4,
   "metadata": {
    "scrolled": true
   },
   "outputs": [
    {
     "name": "stdout",
     "output_type": "stream",
     "text": [
      "\n",
      " Derek Hawkins / @derekhawkins\n",
      "\n",
      " Erik Sven-Osterberg / @sverik\n",
      "\n",
      " Ryan Butz / @ryanbutz\n",
      "\n",
      " Example Exampleson / @example\n",
      "\n",
      " Ripal Pael / @ripalp\n",
      "\n",
      " Darth Vader / @darthvader\n"
     ]
    }
   ],
   "source": [
    "# nameNhandle = \"Derek Hawkins / @derekhawkins,Erik Sven-Osterberg / @sverik,Ryan Butz / @ryanbutz,Example Exampleson / @example,Ripal Pael / @ripalp,Darth Vader / @darthvader\"\n",
    "\n",
    "# organEyes = re.compile(\"([a-zA-Z]+\\s[a-zA-Z]+-[a-zA-Z]+\\s\\/\\s@[a-z]+|[a-zA-Z]+\\s*[a-zA-Z]+\\s\\/\\s@[a-z]+)\")\n",
    "\n",
    "# putTogether = organEyes.findall(nameNhandle)\n",
    "\n",
    "# print(putTogether)\n",
    "\n",
    "# for deets in nameNhandle.split(\" , \"):\n",
    "#     allDeets = organEyes.search(deets)\n",
    "    \n",
    "#     if allDeets:\n",
    "#         print(allDeets.group())\n",
    "        \n",
    "#     else:\n",
    "#         print(\"None\")\n",
    "\n",
    "# nameNhandle = \"Derek Hawkins / @derekhawkins,Erik Sven-Osterberg / @sverik,Ryan Butz / @ryanbutz,Example Exampleson / @example,Ripal Pael / @ripalp,Darth Vader / @darthvader\"\n",
    "\n",
    "# organEyes = re.compile(\"([a-zA-Z]+\\s[a-zA-Z]+-[a-zA-Z]+\\s\\/\\s@[a-z]+|[a-zA-Z]+\\s*[a-zA-Z]+\\s\\/\\s@[a-z]+)\")\n",
    "\n",
    "# putTogether = organEyes.findall(nameNhandle)\n",
    "\n",
    "# print(putTogether)\n",
    "\n",
    "# for deets in nameNhandle.split(\" , \"):\n",
    "#     allDeets = organEyes.search(deets)\n",
    "    \n",
    "#     for deets in nameNhandle:\n",
    "#         print(allDeets.group())\n",
    "\n",
    "\n",
    "with open (\"names.txt\") as f:\n",
    "    deets = f.readlines()\n",
    "\n",
    "pattern = re.compile(\"([A-Z][a-z]+), ([\\w -]*)([A-Z][a-z]+).*\\s(@[a-zA-Z0-9]+$)\")\n",
    "\n",
    "for person in deets:\n",
    "    match = pattern.search(person)\n",
    "    \n",
    "    if match:\n",
    "        print('\\n', f\"{match.group(3)} {match.group(2)}{match.group(1)} / {match.group(4)}\")\n",
    "\n",
    "\n",
    "\n",
    "\n",
    "\n",
    "\n",
    "\n",
    "\n",
    "\n",
    "\n"
   ]
  },
  {
   "cell_type": "markdown",
   "metadata": {},
   "source": [
    "### Regex project\n",
    "\n",
    "Use python to read the file regex_test.txt and print the last name on each line using regular expressions and groups (return None for names with no first and last name, or names that aren't properly capitalized)\n",
    "##### Hint: use with open() and readlines()"
   ]
  },
  {
   "cell_type": "code",
   "execution_count": null,
   "metadata": {},
   "outputs": [],
   "source": [
    "\"\"\"\n",
    "# if the name has whitespace and a lowercase character to the left of it followed \n",
    "by an uppercase and then lowercase letter that's what I want printed\n",
    "Expected Output\n",
    "Abraham Lincoln\n",
    "Andrew P Garfield\n",
    "Connor Milliken\n",
    "Jordan Alexander Williams\n",
    "None\n",
    "None\n",
    "\"\"\""
   ]
  },
  {
   "cell_type": "code",
   "execution_count": 20,
   "metadata": {},
   "outputs": [
    {
     "name": "stdout",
     "output_type": "stream",
     "text": [
      "Garfield\n",
      "Williams\n",
      "Lincoln\n",
      "None\n",
      "Milliken\n",
      "Williams\n",
      "None\n",
      "None\n"
     ]
    }
   ],
   "source": [
    "# with open(\"regex_test.txt\") as random_names:\n",
    "#     names_as_lines = random_names.readlines()\n",
    "    \n",
    "    \n",
    "#     for fullName in names_as_lines:\n",
    "#         fMl = re.search(\"(?:(?P<f>[A-Z][a-z]+)) (?:(?P<m>[A-Z]|[A-Z][a-z]+)) (?P<l>\\w+)$\", fullName)\n",
    "#         fL = re.search(\"(?:(?P<f>[A-Z][a-z]+)) (?P<l>\\w+)$\", fullName)\n",
    "        \n",
    "#         if fMl or fL:\n",
    "#             print (fullName)\n",
    "            \n",
    "#         else:\n",
    "#             print (\"Not proper name\")   \n",
    "import re\n",
    "\n",
    "with open (\"regex_test.txt\") as random_names:\n",
    "    names_as_lines = random_names.readlines()\n",
    "\n",
    "    Fir_Mid_Las = re.compile(\"(?:(?P<f>[A-Z][a-z]+)) (?:(?P<m>[A-Z]|[A-Z][a-z]+)) (?P<l>\\w+)$\")\n",
    "    Fir_Las = re.compile(\"(?:(?P<f>[A-Z][a-z]+)) (?P<l>[A-Z][a-z]+$)\")\n",
    "\n",
    "    for name in names_as_lines:\n",
    "        last_name = Fir_Mid_Las.search(name)\n",
    "\n",
    "        if last_name:\n",
    "            print(f\"{last_name.group(3)}\")\n",
    "        \n",
    "    for name in names_as_lines:\n",
    "        other_last_name = Fir_Las.search(name)\n",
    "        \n",
    "        if other_last_name:\n",
    "            \n",
    "            print(f\"{other_last_name.group(2)}\")\n",
    "            \n",
    "        else:\n",
    "            print(\"None\")\n",
    "            \n",
    "    \n",
    "\n",
    "            \n",
    "# with open(\"regex_test.txt\") as random_names:\n",
    "#     names_as_lines = random_names.readlines()\n",
    "    \n",
    "    \n",
    "#     for fullName in names_as_lines:\n",
    "#         fMl = re.search(\"(?:(?P<f>[A-Z][a-z]+)) (?:(?P<m>[A-Z]|[A-Z][a-z]+)) (?P<l>\\w+)$\", fullName)\n",
    "#         fL = re.search(\"(?:(?P<f>[A-Z][a-z]+)) (?P<l>\\w+)$\", fullName)\n",
    "        \n",
    "#         if fMl or fL:\n",
    "#             print (fullName)\n",
    "            \n",
    "#         else:\n",
    "#             print (\"Not proper name\")          \n",
    "\n",
    "\n",
    "            \n",
    "            "
   ]
  },
  {
   "cell_type": "code",
   "execution_count": null,
   "metadata": {},
   "outputs": [],
   "source": []
  },
  {
   "cell_type": "code",
   "execution_count": null,
   "metadata": {},
   "outputs": [],
   "source": []
  },
  {
   "cell_type": "code",
   "execution_count": null,
   "metadata": {},
   "outputs": [],
   "source": []
  },
  {
   "cell_type": "code",
   "execution_count": null,
   "metadata": {},
   "outputs": [],
   "source": []
  }
 ],
 "metadata": {
  "kernelspec": {
   "display_name": "Python 3 (ipykernel)",
   "language": "python",
   "name": "python3"
  },
  "language_info": {
   "codemirror_mode": {
    "name": "ipython",
    "version": 3
   },
   "file_extension": ".py",
   "mimetype": "text/x-python",
   "name": "python",
   "nbconvert_exporter": "python",
   "pygments_lexer": "ipython3",
   "version": "3.9.12"
  }
 },
 "nbformat": 4,
 "nbformat_minor": 2
}
